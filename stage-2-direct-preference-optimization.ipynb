{
  "cells": [
    {
      "cell_type": "code",
      "execution_count": 1,
      "id": "829840c5-fdde-4901-9145-df0068fbb983",
      "metadata": {},
      "outputs": [],
      "source": [
        "!pip install -q transformers trl peft bitsandbytes datasets\n",
        "!pip install -q rouge_score bert_score\n",
        "!pip install -q evaluate nltk"
      ]
    },
    {
      "cell_type": "code",
      "execution_count": 2,
      "id": "4cea2209-2a29-4dbc-99b6-2b7dd7024911",
      "metadata": {},
      "outputs": [],
      "source": [
        "import torch\n",
        "from datasets import load_dataset\n",
        "from transformers import AutoTokenizer, AutoModelForCausalLM\n",
        "from trl import DPOTrainer, DPOConfig\n",
        "from peft import PeftModel, PeftConfig, LoraConfig"
      ]
    },
    {
      "cell_type": "code",
      "execution_count": 3,
      "id": "e709378c-30ab-4891-8de7-cd413a4cf7dc",
      "metadata": {},
      "outputs": [],
      "source": [
        "import warnings\n",
        "warnings.filterwarnings(\"ignore\", message=\".*use_reentrant.*\")"
      ]
    },
    {
      "cell_type": "code",
      "execution_count": 4,
      "id": "f0e4aa97-7f50-4117-a401-65221249b0d2",
      "metadata": {},
      "outputs": [],
      "source": [
        "class Config:\n",
        "    base_model_id = \"Qwen/Qwen2.5-3B\"\n",
        "    sft_model_id = \"./qwen-2.5-3b-sft-truthfulqa/sft/checkpoint-288\"\n",
        "    dpo_model_id = \"./qwen-2.5-3b-dpo-truthfulqa/dpo\"\n",
        "\n",
        "    dataset_id = \"truthfulqa/truthful_qa\"\n",
        "\n",
        "config = Config()"
      ]
    },
    {
      "cell_type": "code",
      "execution_count": 5,
      "id": "266b458b-ed7b-4825-b5f3-31a2e525da1f",
      "metadata": {},
      "outputs": [
        {
          "data": {
            "application/vnd.jupyter.widget-view+json": {
              "model_id": "7f1694f0e3274239834b33884e783395",
              "version_major": 2,
              "version_minor": 0
            },
            "text/plain": [
              "Loading checkpoint shards:   0%|          | 0/2 [00:00<?, ?it/s]"
            ]
          },
          "metadata": {},
          "output_type": "display_data"
        },
        {
          "name": "stdout",
          "output_type": "stream",
          "text": [
            "trainable params: 5,013,504 || all params: 3,090,952,192 || trainable%: 0.1622\n"
          ]
        }
      ],
      "source": [
        "model = AutoModelForCausalLM.from_pretrained(\n",
        "    config.base_model_id,\n",
        "    trust_remote_code=True,\n",
        "    torch_dtype=torch.float16,\n",
        "    device_map=\"auto\"\n",
        ")\n",
        "\n",
        "\n",
        "tokenizer = AutoTokenizer.from_pretrained(\n",
        "    config.base_model_id,\n",
        "    trust_remote_code=True\n",
        ")\n",
        "tokenizer.pad_token = tokenizer.eos_token\n",
        "tokenizer.padding_side = \"left\"\n",
        "\n",
        "\n",
        "model = PeftModel.from_pretrained(\n",
        "    model,\n",
        "    config.sft_model_id,\n",
        "    is_trainable=True\n",
        ")\n",
        "\n",
        "model.print_trainable_parameters()"
      ]
    },
    {
      "cell_type": "code",
      "execution_count": 6,
      "id": "263fa74f-6ad6-404e-adcf-b09b177dc393",
      "metadata": {},
      "outputs": [],
      "source": [
        "def format_sample(sample):\n",
        "    rejected = sample[\"incorrect_answers\"][0] if sample[\"incorrect_answers\"] else \"N/A\"\n",
        "    return {\n",
        "        \"prompt\": sample[\"question\"],\n",
        "        \"chosen\": sample[\"best_answer\"],\n",
        "        \"rejected\": rejected,\n",
        "    }\n",
        "\n",
        "raw_dataset = load_dataset(config.dataset_id, \"generation\")[\"validation\"]\n",
        "raw_dataset = raw_dataset.map(format_sample, remove_columns=raw_dataset.column_names)\n",
        "\n",
        "split_dataset = raw_dataset.train_test_split(test_size=0.1, seed=42)\n",
        "temp_split = split_dataset[\"test\"].train_test_split(test_size=0.5, seed=42)\n",
        "\n",
        "dataset_split = {\n",
        "    \"train\": split_dataset[\"train\"],\n",
        "    \"validation\": temp_split[\"train\"],\n",
        "    \"test\": temp_split[\"test\"],\n",
        "}"
      ]
    },
    {
      "cell_type": "code",
      "execution_count": 7,
      "id": "2a819cbc-5097-4cd5-a989-5f15df305366",
      "metadata": {},
      "outputs": [],
      "source": [
        "dpo_config = DPOConfig(\n",
        "    beta=0.05,\n",
        "    num_train_epochs=5,\n",
        "    per_device_train_batch_size=16,\n",
        "    per_device_eval_batch_size=16,\n",
        "    gradient_accumulation_steps=2,\n",
        "    learning_rate=2e-5,\n",
        "    optim=\"adamw_8bit\",\n",
        "    warmup_ratio=0.1,\n",
        "    lr_scheduler_type=\"cosine\",\n",
        "    logging_steps=1,\n",
        "    eval_strategy=\"epoch\",\n",
        "    save_total_limit=1,\n",
        "    save_strategy=\"best\",\n",
        "    metric_for_best_model=\"eval_loss\",\n",
        "    load_best_model_at_end=True,\n",
        "    output_dir=config.dpo_model_id,\n",
        "    bf16=False,\n",
        "    fp16=True,\n",
        "    report_to=\"tensorboard\",\n",
        "    remove_unused_columns=False,\n",
        ")"
      ]
    },
    {
      "cell_type": "code",
      "execution_count": 8,
      "id": "7d42b6a8-c232-4046-a9e2-cc65dffb3636",
      "metadata": {},
      "outputs": [
        {
          "name": "stderr",
          "output_type": "stream",
          "text": [
            "No label_names provided for model class `PeftModelForCausalLM`. Since `PeftModel` hides base models input arguments, if label_names is not given, label_names can't be set automatically within `Trainer`. Note that empty label_names list will be used instead.\n"
          ]
        }
      ],
      "source": [
        "trainer = DPOTrainer(\n",
        "    model=model,\n",
        "    ref_model=None,\n",
        "    args=dpo_config,\n",
        "    train_dataset=dataset_split[\"train\"],\n",
        "    eval_dataset=dataset_split[\"validation\"],\n",
        "    processing_class=tokenizer\n",
        ")"
      ]
    },
    {
      "cell_type": "code",
      "execution_count": 9,
      "id": "8a92affc-4035-4b50-93af-19c2b6137a10",
      "metadata": {},
      "outputs": [
        {
          "data": {
            "text/html": [
              "\n",
              "    <div>\n",
              "      \n",
              "      <progress value='115' max='115' style='width:300px; height:20px; vertical-align: middle;'></progress>\n",
              "      [115/115 02:55, Epoch 5/5]\n",
              "    </div>\n",
              "    <table border=\"1\" class=\"dataframe\">\n",
              "  <thead>\n",
              " <tr style=\"text-align: left;\">\n",
              "      <th>Epoch</th>\n",
              "      <th>Training Loss</th>\n",
              "      <th>Validation Loss</th>\n",
              "      <th>Rewards/chosen</th>\n",
              "      <th>Rewards/rejected</th>\n",
              "      <th>Rewards/accuracies</th>\n",
              "      <th>Rewards/margins</th>\n",
              "      <th>Logps/chosen</th>\n",
              "      <th>Logps/rejected</th>\n",
              "      <th>Logits/chosen</th>\n",
              "      <th>Logits/rejected</th>\n",
              "    </tr>\n",
              "  </thead>\n",
              "  <tbody>\n",
              "    <tr>\n",
              "      <td>1</td>\n",
              "      <td>0.626000</td>\n",
              "      <td>0.642645</td>\n",
              "      <td>0.198456</td>\n",
              "      <td>0.075464</td>\n",
              "      <td>0.754630</td>\n",
              "      <td>0.122992</td>\n",
              "      <td>-25.471392</td>\n",
              "      <td>-27.376974</td>\n",
              "      <td>-0.456204</td>\n",
              "      <td>-0.318629</td>\n",
              "    </tr>\n",
              "    <tr>\n",
              "      <td>2</td>\n",
              "      <td>0.624000</td>\n",
              "      <td>0.615134</td>\n",
              "      <td>0.251773</td>\n",
              "      <td>0.060095</td>\n",
              "      <td>0.817130</td>\n",
              "      <td>0.191679</td>\n",
              "      <td>-24.405037</td>\n",
              "      <td>-27.684359</td>\n",
              "      <td>-0.482988</td>\n",
              "      <td>-0.317960</td>\n",
              "    </tr>\n",
              "    <tr>\n",
              "      <td>3</td>\n",
              "      <td>0.618700</td>\n",
              "      <td>0.592182</td>\n",
              "      <td>0.270354</td>\n",
              "      <td>0.017679</td>\n",
              "      <td>0.837963</td>\n",
              "      <td>0.252675</td>\n",
              "      <td>-24.033430</td>\n",
              "      <td>-28.532682</td>\n",
              "      <td>-0.539420</td>\n",
              "      <td>-0.343841</td>\n",
              "    </tr>\n",
              "    <tr>\n",
              "      <td>4</td>\n",
              "      <td>0.528600</td>\n",
              "      <td>0.580749</td>\n",
              "      <td>0.267535</td>\n",
              "      <td>-0.016671</td>\n",
              "      <td>0.858796</td>\n",
              "      <td>0.284206</td>\n",
              "      <td>-24.089804</td>\n",
              "      <td>-29.219664</td>\n",
              "      <td>-0.577102</td>\n",
              "      <td>-0.366243</td>\n",
              "    </tr>\n",
              "    <tr>\n",
              "      <td>5</td>\n",
              "      <td>0.509600</td>\n",
              "      <td>0.578678</td>\n",
              "      <td>0.266521</td>\n",
              "      <td>-0.023467</td>\n",
              "      <td>0.858796</td>\n",
              "      <td>0.289988</td>\n",
              "      <td>-24.110083</td>\n",
              "      <td>-29.355589</td>\n",
              "      <td>-0.582954</td>\n",
              "      <td>-0.369986</td>\n",
              "    </tr>\n",
              "  </tbody>\n",
              "</table><p>"
            ],
            "text/plain": [
              "<IPython.core.display.HTML object>"
            ]
          },
          "metadata": {},
          "output_type": "display_data"
        }
      ],
      "source": [
        "train_history = trainer.train()"
      ]
    },
    {
      "cell_type": "code",
      "execution_count": 10,
      "id": "fb71478a-59c5-49a9-ae5f-04a37b299477",
      "metadata": {},
      "outputs": [
        {
          "data": {
            "text/plain": [
              "TrainOutput(global_step=115, training_loss=0.5960209452587625, metrics={'train_runtime': 178.0891, 'train_samples_per_second': 20.636, 'train_steps_per_second': 0.646, 'total_flos': 0.0, 'train_loss': 0.5960209452587625, 'epoch': 5.0})"
            ]
          },
          "execution_count": 10,
          "metadata": {},
          "output_type": "execute_result"
        }
      ],
      "source": [
        "train_history"
      ]
    },
    {
      "cell_type": "code",
      "execution_count": null,
      "id": "6e5e3a51-592c-4cde-ac01-bd421af2ad43",
      "metadata": {},
      "outputs": [],
      "source": [
        "import zipfile\n",
        "import os\n",
        "\n",
        "def zip_all_files(output_filename='stage-2.zip', directory='qwen-2.5-3b-dpo-truthfulqa'):\n",
        "    with zipfile.ZipFile(output_filename, 'w', zipfile.ZIP_DEFLATED) as zipf:\n",
        "        for foldername, subfolders, filenames in os.walk(directory):\n",
        "            for filename in filenames:\n",
        "                file_path = os.path.join(foldername, filename)\n",
        "                # Skip hidden files and system files if desired\n",
        "                if not filename.startswith('.') and '__pycache__' not in file_path:\n",
        "                    zipf.write(file_path, os.path.relpath(file_path, directory))\n",
        "\n",
        "zip_all_files()\n"
      ]
    },
    {
      "cell_type": "code",
      "execution_count": null,
      "id": "a4b95082-50e2-44e2-9512-66b46f17eadc",
      "metadata": {},
      "outputs": [],
      "source": []
    }
  ],
  "metadata": {
    "kernelspec": {
      "display_name": "Python 3",
      "language": "python",
      "name": "python3"
    },
    "language_info": {
      "codemirror_mode": {
        "name": "ipython",
        "version": 3
      },
      "file_extension": ".py",
      "mimetype": "text/x-python",
      "name": "python",
      "nbconvert_exporter": "python",
      "pygments_lexer": "ipython3",
      "version": "3.10.10"
    }
  },
  "nbformat": 4,
  "nbformat_minor": 5
}